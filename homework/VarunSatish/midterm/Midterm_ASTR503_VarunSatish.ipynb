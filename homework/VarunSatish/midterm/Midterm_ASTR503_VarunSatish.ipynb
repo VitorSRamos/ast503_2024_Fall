{
 "cells": [
  {
   "cell_type": "markdown",
   "id": "70c7e146",
   "metadata": {},
   "source": [
    "# Varun Satish - ASTR 503 Midterm"
   ]
  },
  {
   "cell_type": "code",
   "execution_count": null,
   "id": "3827f935-bb0e-4c31-b89a-154d86a31b33",
   "metadata": {},
   "outputs": [],
   "source": [
    "# I'm not telling you what to import this time - it's an exam! "
   ]
  },
  {
   "cell_type": "markdown",
   "id": "fd147422-1c81-4879-8e05-7dc9923a97ba",
   "metadata": {},
   "source": [
    "### Even though you are submitting these with `git` and this file tells you to rename it, and you should be pushing to a dedicated folder with your username, please also stick your name in this file here, so there's extra redundancy. "
   ]
  },
  {
   "cell_type": "markdown",
   "id": "55cfef3f-dc0a-4d18-a674-39d79c4b015c",
   "metadata": {},
   "source": [
    "The point of this Midterm is to \n",
    "- cover material that we haven't had a chance to put on a homework yet\n",
    "- throw in a curveball that will require you to actually understand the material you learned\n",
    "- generally give me a sense of where you all are at the halfway point "
   ]
  },
  {
   "cell_type": "markdown",
   "id": "54543c6f-8ed4-4ee7-9415-c7fd0b716ebb",
   "metadata": {},
   "source": [
    "# Q1. Noise, Simulations and Fourier Transforms ( 40 pts)\n",
    "\n",
    "You should probably begin by reading this short article on how to generate noise\n",
    "https://paulbourke.net/fractals/noise/\n",
    "\n",
    "Generate the following time streams: \n",
    "- 5.5 Hz signal\n",
    "- \"dirty\" 60 Hz signal (hint: https://ep2000.com/what-is-dirty-electricity-and-how-to-remove-it-from-your-home/?v=e75edac1b83f - how you generate the noise is up to you - you can round the value of a sine wave for instance to the nearest something)\n",
    "- white noise\n",
    "- Brownian noise\n",
    "- 1/f noise\n",
    "- sum of all the above\n",
    "\n",
    "8 points each:\n",
    "a) Plot the time streams and make the plot pretty (I'm not being as specific as before because you ought to know by now).\n",
    "\n",
    "b) Measure the standard deviation of each noise time stream. Count and report the number of time samples above (or below) 3 sigma.\n",
    "\n",
    "c) Fourier Transform the time streams and plot the power spectral densities\n",
    "\n",
    "d) Do a power law fit and measure the slope of the noise components. What is alpha (1/f^alpha) for the various components? (Report an error) Show your fits. (https://scipy-cookbook.readthedocs.io/items/FittingData.html) \n",
    "\n",
    "e) To the total timestream: (3 + 3 + 2)\n",
    "- apply a high-pass filter\n",
    "- apply a low-pass filter\n",
    "- plot the power spectral density"
   ]
  },
  {
   "cell_type": "code",
   "execution_count": null,
   "id": "03018037-923d-4bea-aa19-cb4e7acdde14",
   "metadata": {},
   "outputs": [],
   "source": []
  },
  {
   "cell_type": "markdown",
   "id": "479cfe2e-96af-4668-9b7e-d71b978f99f6",
   "metadata": {},
   "source": [
    "# Q2 - Working with images and what that negative k-correction actually means for sources. (30 pts)\n",
    "\n",
    "In your last homework assignment, you whined about calculating the k-correction for some sub-mm galaxy.\n",
    "\n",
    "So lets give you a more visual picture of what the negative k-correction actually does.\n",
    "First, download and install DS9: http://ds9.si.edu/site/Home.html (or using conda)\n",
    "\n",
    "Next, download the .fits files here: \n",
    "https://www.dropbox.com/scl/fo/pdcu1svt369dr5kshuq79/ALqZX0apyaqhxKO-qdjy-vg?rlkey=5y2hyqmlgzpjvn96whd1w348f&dl=0 \n",
    "\n",
    "These are optical g,r,i DES images, an SPT 220GHz image, and an ALMA 870um image. Use Python to read in the .fits images.\n",
    "\n",
    "In each case below, print your answer clearly (6 pts a piece) \n",
    "- Calculate the standard deviation of the SPT and ALMA maps. This is the noise.\n",
    "- Now calculate the maximum signal-to-noise ratio in each map.\n",
    "- Make a 3-color image from DES in DS9 (hint: Frame —> New Frame RGB in ds9 or use trilogy: https://pypi.org/project/trilogy/)\n",
    "- Overplot the SPT contours at 3,5,7,9 sigma (hint: Analysis—> Contour Parameters in ds9 or use scipy.stats)\n",
    "- Overplot the ALMA contours at 5,10,15,20 sigma.\n",
    "\n",
    "It should look something like this:\n",
    "https://www.dropbox.com/scl/fi/bllp2l5293w4cb8eg5dyz/prob3_example.png\n",
    "\n",
    "\n",
    "  \n"
   ]
  },
  {
   "cell_type": "code",
   "execution_count": null,
   "id": "58a0b6d4-bdee-4cdf-8c68-e1b73938d987",
   "metadata": {},
   "outputs": [],
   "source": []
  },
  {
   "cell_type": "markdown",
   "id": "9d89bcbd-b0ed-4879-b52d-e833d09a2364",
   "metadata": {},
   "source": [
    "# Q3 - Coordinates, time conversions (30 pts) \n",
    "\n",
    "The star Vega (which you all know and love by now) has RA = 18h 36m 56s and Declination +38 deg 47' 01\".\n",
    "\n",
    "- Convert these coordinates\n",
    "  a) decimal degrees\n",
    "  b) into galactic coordinates\n",
    "\n",
    "The University of Illinois observatory is at latitutde 40.112 degrees, while our longitude is -88.221 degrees.\n",
    "\n",
    "- Use the expressions in the class slides to write a function that accepts arbitrary coordinates in RA and Dec and calculates the rise and set time of this source over the course of 2024.\n",
    "  \n",
    "- Plot the rise and set and set time of Vega for 2024\n",
    "  "
   ]
  },
  {
   "cell_type": "markdown",
   "id": "164a116a-aca0-4d69-bd3b-552402d27cf0",
   "metadata": {},
   "source": [
    "### Divide and conquer, so you encounter issues in parallel and can explain things to each other, rather than working in series. \n",
    "\n",
    "# Due Oct 22 at Noon!"
   ]
  }
 ],
 "metadata": {
  "kernelspec": {
   "display_name": "Python 3 (ipykernel)",
   "language": "python",
   "name": "python3"
  },
  "language_info": {
   "codemirror_mode": {
    "name": "ipython",
    "version": 3
   },
   "file_extension": ".py",
   "mimetype": "text/x-python",
   "name": "python",
   "nbconvert_exporter": "python",
   "pygments_lexer": "ipython3",
   "version": "3.10.15"
  }
 },
 "nbformat": 4,
 "nbformat_minor": 5
}
